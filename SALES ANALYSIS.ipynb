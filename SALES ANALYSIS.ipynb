{
 "cells": [
  {
   "cell_type": "code",
   "execution_count": 1,
   "id": "82a1d93f",
   "metadata": {},
   "outputs": [],
   "source": [
    "import numpy as np\n",
    "import pandas as pd\n",
    "import matplotlib.pyplot as plt\n",
    "import seaborn as sns"
   ]
  },
  {
   "cell_type": "code",
   "execution_count": 2,
   "id": "2391c15c",
   "metadata": {},
   "outputs": [],
   "source": [
    "df = pd.read_csv('electronics.csv')"
   ]
  },
  {
   "cell_type": "code",
   "execution_count": 3,
   "id": "981d16d9",
   "metadata": {},
   "outputs": [
    {
     "name": "stdout",
     "output_type": "stream",
     "text": [
      "No of Sample:1292954\n",
      "\n",
      "Data Shape:(1292954, 10)\n",
      "\n",
      "Data Information:\n",
      "item_id         int64\n",
      "user_id         int64\n",
      "rating        float64\n",
      "timestamp      object\n",
      "model_attr     object\n",
      "category       object\n",
      "brand          object\n",
      "year            int64\n",
      "user_attr      object\n",
      "split           int64\n",
      "dtype: object\n",
      "\n",
      "Null Values:\n",
      "item_id             0\n",
      "user_id             0\n",
      "rating              0\n",
      "timestamp           0\n",
      "model_attr          0\n",
      "category            0\n",
      "brand          961834\n",
      "year                0\n",
      "user_attr     1118830\n",
      "split               0\n",
      "dtype: int64\n",
      "\n",
      "Duplicates Values:\n",
      "0\n",
      "\n",
      "\n",
      "Categorical Features:\n",
      "timestamp\n",
      "model_attr\n",
      "category\n",
      "brand\n",
      "user_attr\n",
      "\n",
      "Binary Features:\n",
      "No Binarry features\n",
      "\n",
      "Continuous Features:\n",
      "item_id\n",
      "user_id\n",
      "rating\n",
      "year\n",
      "split\n",
      "\n",
      "Dataset Head: \n"
     ]
    },
    {
     "data": {
      "text/html": [
       "<div>\n",
       "<style scoped>\n",
       "    .dataframe tbody tr th:only-of-type {\n",
       "        vertical-align: middle;\n",
       "    }\n",
       "\n",
       "    .dataframe tbody tr th {\n",
       "        vertical-align: top;\n",
       "    }\n",
       "\n",
       "    .dataframe thead th {\n",
       "        text-align: right;\n",
       "    }\n",
       "</style>\n",
       "<table border=\"1\" class=\"dataframe\">\n",
       "  <thead>\n",
       "    <tr style=\"text-align: right;\">\n",
       "      <th></th>\n",
       "      <th>item_id</th>\n",
       "      <th>user_id</th>\n",
       "      <th>rating</th>\n",
       "      <th>timestamp</th>\n",
       "      <th>model_attr</th>\n",
       "      <th>category</th>\n",
       "      <th>brand</th>\n",
       "      <th>year</th>\n",
       "      <th>user_attr</th>\n",
       "      <th>split</th>\n",
       "    </tr>\n",
       "  </thead>\n",
       "  <tbody>\n",
       "    <tr>\n",
       "      <th>0</th>\n",
       "      <td>0</td>\n",
       "      <td>0</td>\n",
       "      <td>5.0</td>\n",
       "      <td>1999-06-13</td>\n",
       "      <td>Female</td>\n",
       "      <td>Portable Audio &amp; Video</td>\n",
       "      <td>NaN</td>\n",
       "      <td>1999</td>\n",
       "      <td>NaN</td>\n",
       "      <td>0</td>\n",
       "    </tr>\n",
       "    <tr>\n",
       "      <th>1</th>\n",
       "      <td>0</td>\n",
       "      <td>1</td>\n",
       "      <td>5.0</td>\n",
       "      <td>1999-06-14</td>\n",
       "      <td>Female</td>\n",
       "      <td>Portable Audio &amp; Video</td>\n",
       "      <td>NaN</td>\n",
       "      <td>1999</td>\n",
       "      <td>NaN</td>\n",
       "      <td>0</td>\n",
       "    </tr>\n",
       "    <tr>\n",
       "      <th>2</th>\n",
       "      <td>0</td>\n",
       "      <td>2</td>\n",
       "      <td>3.0</td>\n",
       "      <td>1999-06-17</td>\n",
       "      <td>Female</td>\n",
       "      <td>Portable Audio &amp; Video</td>\n",
       "      <td>NaN</td>\n",
       "      <td>1999</td>\n",
       "      <td>NaN</td>\n",
       "      <td>0</td>\n",
       "    </tr>\n",
       "    <tr>\n",
       "      <th>3</th>\n",
       "      <td>0</td>\n",
       "      <td>3</td>\n",
       "      <td>1.0</td>\n",
       "      <td>1999-07-01</td>\n",
       "      <td>Female</td>\n",
       "      <td>Portable Audio &amp; Video</td>\n",
       "      <td>NaN</td>\n",
       "      <td>1999</td>\n",
       "      <td>NaN</td>\n",
       "      <td>0</td>\n",
       "    </tr>\n",
       "    <tr>\n",
       "      <th>4</th>\n",
       "      <td>0</td>\n",
       "      <td>4</td>\n",
       "      <td>2.0</td>\n",
       "      <td>1999-07-06</td>\n",
       "      <td>Female</td>\n",
       "      <td>Portable Audio &amp; Video</td>\n",
       "      <td>NaN</td>\n",
       "      <td>1999</td>\n",
       "      <td>NaN</td>\n",
       "      <td>0</td>\n",
       "    </tr>\n",
       "  </tbody>\n",
       "</table>\n",
       "</div>"
      ],
      "text/plain": [
       "   item_id  user_id  rating   timestamp model_attr                category  \\\n",
       "0        0        0     5.0  1999-06-13     Female  Portable Audio & Video   \n",
       "1        0        1     5.0  1999-06-14     Female  Portable Audio & Video   \n",
       "2        0        2     3.0  1999-06-17     Female  Portable Audio & Video   \n",
       "3        0        3     1.0  1999-07-01     Female  Portable Audio & Video   \n",
       "4        0        4     2.0  1999-07-06     Female  Portable Audio & Video   \n",
       "\n",
       "  brand  year user_attr  split  \n",
       "0   NaN  1999       NaN      0  \n",
       "1   NaN  1999       NaN      0  \n",
       "2   NaN  1999       NaN      0  \n",
       "3   NaN  1999       NaN      0  \n",
       "4   NaN  1999       NaN      0  "
      ]
     },
     "metadata": {},
     "output_type": "display_data"
    },
    {
     "name": "stdout",
     "output_type": "stream",
     "text": [
      "\n",
      "Dateset Tail:\n"
     ]
    },
    {
     "data": {
      "text/html": [
       "<div>\n",
       "<style scoped>\n",
       "    .dataframe tbody tr th:only-of-type {\n",
       "        vertical-align: middle;\n",
       "    }\n",
       "\n",
       "    .dataframe tbody tr th {\n",
       "        vertical-align: top;\n",
       "    }\n",
       "\n",
       "    .dataframe thead th {\n",
       "        text-align: right;\n",
       "    }\n",
       "</style>\n",
       "<table border=\"1\" class=\"dataframe\">\n",
       "  <thead>\n",
       "    <tr style=\"text-align: right;\">\n",
       "      <th></th>\n",
       "      <th>item_id</th>\n",
       "      <th>user_id</th>\n",
       "      <th>rating</th>\n",
       "      <th>timestamp</th>\n",
       "      <th>model_attr</th>\n",
       "      <th>category</th>\n",
       "      <th>brand</th>\n",
       "      <th>year</th>\n",
       "      <th>user_attr</th>\n",
       "      <th>split</th>\n",
       "    </tr>\n",
       "  </thead>\n",
       "  <tbody>\n",
       "    <tr>\n",
       "      <th>1292949</th>\n",
       "      <td>9478</td>\n",
       "      <td>1157628</td>\n",
       "      <td>1.0</td>\n",
       "      <td>2018-09-26</td>\n",
       "      <td>Female</td>\n",
       "      <td>Headphones</td>\n",
       "      <td>Etre Jeune</td>\n",
       "      <td>2017</td>\n",
       "      <td>NaN</td>\n",
       "      <td>0</td>\n",
       "    </tr>\n",
       "    <tr>\n",
       "      <th>1292950</th>\n",
       "      <td>9435</td>\n",
       "      <td>1157629</td>\n",
       "      <td>5.0</td>\n",
       "      <td>2018-09-26</td>\n",
       "      <td>Female</td>\n",
       "      <td>Computers &amp; Accessories</td>\n",
       "      <td>NaN</td>\n",
       "      <td>2017</td>\n",
       "      <td>NaN</td>\n",
       "      <td>0</td>\n",
       "    </tr>\n",
       "    <tr>\n",
       "      <th>1292951</th>\n",
       "      <td>9305</td>\n",
       "      <td>1157630</td>\n",
       "      <td>3.0</td>\n",
       "      <td>2018-09-26</td>\n",
       "      <td>Female</td>\n",
       "      <td>Computers &amp; Accessories</td>\n",
       "      <td>NaN</td>\n",
       "      <td>2016</td>\n",
       "      <td>NaN</td>\n",
       "      <td>0</td>\n",
       "    </tr>\n",
       "    <tr>\n",
       "      <th>1292952</th>\n",
       "      <td>9303</td>\n",
       "      <td>1157631</td>\n",
       "      <td>5.0</td>\n",
       "      <td>2018-09-29</td>\n",
       "      <td>Male</td>\n",
       "      <td>Headphones</td>\n",
       "      <td>NaN</td>\n",
       "      <td>2018</td>\n",
       "      <td>NaN</td>\n",
       "      <td>0</td>\n",
       "    </tr>\n",
       "    <tr>\n",
       "      <th>1292953</th>\n",
       "      <td>9478</td>\n",
       "      <td>1157632</td>\n",
       "      <td>1.0</td>\n",
       "      <td>2018-10-01</td>\n",
       "      <td>Female</td>\n",
       "      <td>Headphones</td>\n",
       "      <td>Etre Jeune</td>\n",
       "      <td>2017</td>\n",
       "      <td>Female</td>\n",
       "      <td>0</td>\n",
       "    </tr>\n",
       "  </tbody>\n",
       "</table>\n",
       "</div>"
      ],
      "text/plain": [
       "         item_id  user_id  rating   timestamp model_attr  \\\n",
       "1292949     9478  1157628     1.0  2018-09-26     Female   \n",
       "1292950     9435  1157629     5.0  2018-09-26     Female   \n",
       "1292951     9305  1157630     3.0  2018-09-26     Female   \n",
       "1292952     9303  1157631     5.0  2018-09-29       Male   \n",
       "1292953     9478  1157632     1.0  2018-10-01     Female   \n",
       "\n",
       "                        category       brand  year user_attr  split  \n",
       "1292949               Headphones  Etre Jeune  2017       NaN      0  \n",
       "1292950  Computers & Accessories         NaN  2017       NaN      0  \n",
       "1292951  Computers & Accessories         NaN  2016       NaN      0  \n",
       "1292952               Headphones         NaN  2018       NaN      0  \n",
       "1292953               Headphones  Etre Jeune  2017    Female      0  "
      ]
     },
     "metadata": {},
     "output_type": "display_data"
    }
   ],
   "source": [
    "def DataFrame(df):\n",
    "    \n",
    "    categorical_features = []\n",
    "    binary_features = []\n",
    "    continuous_features = []\n",
    "    \n",
    "    print(f\"No of Sample:{df.shape[0]}\\n\")\n",
    "    print(f\"Data Shape:{df.shape}\\n\")\n",
    "    print(f\"Data Information:\\n{df.dtypes}\\n\")\n",
    "    print(f\"Null Values:\\n{df.isnull().sum()}\\n\")\n",
    "    print(f\"Duplicates Values:\\n{df.duplicated().sum()}\\n\")\n",
    "    \n",
    "    \n",
    "    for cols in df.columns:\n",
    "        \n",
    "        if df[cols].dtype == object:\n",
    "            categorical_features.append(cols)\n",
    "        elif df[cols].nunique() <= 2:\n",
    "            binary_features.append(cols)\n",
    "        else:\n",
    "            continuous_features.append(cols)\n",
    "     \n",
    "    print('\\nCategorical Features:')\n",
    "    if len(categorical_features) == 0:\n",
    "        print('No Categorical Features')\n",
    "    else:\n",
    "        for feature in categorical_features:\n",
    "            print(feature)\n",
    "            \n",
    "    print('\\nBinary Features:')        \n",
    "    if len(binary_features) == 0:\n",
    "        print('No Binarry features')\n",
    "    else:\n",
    "        for feature in binary_features:\n",
    "            print(feature)\n",
    "            \n",
    "    print('\\nContinuous Features:')        \n",
    "    if len(continuous_features) == 0:\n",
    "        print('No Continuous features')\n",
    "    else:\n",
    "        for feature in continuous_features:\n",
    "            print(feature)\n",
    "            \n",
    "    print('\\nDataset Head: ')\n",
    "    display(df.head(5))\n",
    "    \n",
    "    print('\\nDateset Tail:')\n",
    "    display(df.tail(5))\n",
    "            \n",
    "        \n",
    "        \n",
    "        \n",
    "DataFrame(df)"
   ]
  },
  {
   "cell_type": "code",
   "execution_count": 4,
   "id": "84cf3dc9",
   "metadata": {},
   "outputs": [],
   "source": [
    "# let make a copy of our original dataframe \n",
    "\n",
    "dataset = df.copy()"
   ]
  },
  {
   "cell_type": "code",
   "execution_count": 5,
   "id": "43540067",
   "metadata": {},
   "outputs": [
    {
     "data": {
      "text/plain": [
       "Index(['item_id', 'user_id', 'rating', 'timestamp', 'model_attr', 'category',\n",
       "       'brand', 'year', 'user_attr', 'split'],\n",
       "      dtype='object')"
      ]
     },
     "execution_count": 5,
     "metadata": {},
     "output_type": "execute_result"
    }
   ],
   "source": [
    "dataset.columns"
   ]
  },
  {
   "cell_type": "code",
   "execution_count": 6,
   "id": "b73c912a",
   "metadata": {},
   "outputs": [
    {
     "name": "stdout",
     "output_type": "stream",
     "text": [
      "<class 'pandas.core.series.Series'>\n",
      "RangeIndex: 1292954 entries, 0 to 1292953\n",
      "Series name: timestamp\n",
      "Non-Null Count    Dtype         \n",
      "--------------    -----         \n",
      "1292954 non-null  datetime64[ns]\n",
      "dtypes: datetime64[ns](1)\n",
      "memory usage: 9.9 MB\n"
     ]
    }
   ],
   "source": [
    "# convert the timestamp to a datetime obj\n",
    "\n",
    "from datetime import datetime\n",
    "dataset['timestamp'] = pd.to_datetime(dataset['timestamp'])\n",
    "dataset['timestamp'].info()"
   ]
  },
  {
   "cell_type": "code",
   "execution_count": 7,
   "id": "2498a49e",
   "metadata": {},
   "outputs": [],
   "source": [
    "#convert the object to str type\n",
    "dataset['model_attr'] = dataset['model_attr'].astype(str)\n",
    "dataset['category'] = dataset['category'].astype(str)\n",
    "dataset['brand'] = dataset['brand'].astype(str)\n",
    "dataset['user_attr'] = dataset['user_attr'].astype(str)"
   ]
  },
  {
   "cell_type": "code",
   "execution_count": 8,
   "id": "e43b7cbe",
   "metadata": {},
   "outputs": [
    {
     "name": "stdout",
     "output_type": "stream",
     "text": [
      "No of Sample:1292954\n",
      "\n",
      "Data Shape:(1292954, 10)\n",
      "\n",
      "Data Information:\n",
      "item_id                int64\n",
      "user_id                int64\n",
      "rating               float64\n",
      "timestamp     datetime64[ns]\n",
      "model_attr            object\n",
      "category              object\n",
      "brand                 object\n",
      "year                   int64\n",
      "user_attr             object\n",
      "split                  int64\n",
      "dtype: object\n",
      "\n",
      "Null Values:\n",
      "item_id       0\n",
      "user_id       0\n",
      "rating        0\n",
      "timestamp     0\n",
      "model_attr    0\n",
      "category      0\n",
      "brand         0\n",
      "year          0\n",
      "user_attr     0\n",
      "split         0\n",
      "dtype: int64\n",
      "\n",
      "Duplicates Values:\n",
      "0\n",
      "\n",
      "\n",
      "Categorical Features:\n",
      "model_attr\n",
      "category\n",
      "brand\n",
      "user_attr\n",
      "\n",
      "Binary Features:\n",
      "No Binarry features\n",
      "\n",
      "Continuous Features:\n",
      "item_id\n",
      "user_id\n",
      "rating\n",
      "timestamp\n",
      "year\n",
      "split\n",
      "\n",
      "Dataset Head: \n"
     ]
    },
    {
     "data": {
      "text/html": [
       "<div>\n",
       "<style scoped>\n",
       "    .dataframe tbody tr th:only-of-type {\n",
       "        vertical-align: middle;\n",
       "    }\n",
       "\n",
       "    .dataframe tbody tr th {\n",
       "        vertical-align: top;\n",
       "    }\n",
       "\n",
       "    .dataframe thead th {\n",
       "        text-align: right;\n",
       "    }\n",
       "</style>\n",
       "<table border=\"1\" class=\"dataframe\">\n",
       "  <thead>\n",
       "    <tr style=\"text-align: right;\">\n",
       "      <th></th>\n",
       "      <th>item_id</th>\n",
       "      <th>user_id</th>\n",
       "      <th>rating</th>\n",
       "      <th>timestamp</th>\n",
       "      <th>model_attr</th>\n",
       "      <th>category</th>\n",
       "      <th>brand</th>\n",
       "      <th>year</th>\n",
       "      <th>user_attr</th>\n",
       "      <th>split</th>\n",
       "    </tr>\n",
       "  </thead>\n",
       "  <tbody>\n",
       "    <tr>\n",
       "      <th>0</th>\n",
       "      <td>0</td>\n",
       "      <td>0</td>\n",
       "      <td>5.0</td>\n",
       "      <td>1999-06-13</td>\n",
       "      <td>Female</td>\n",
       "      <td>Portable Audio &amp; Video</td>\n",
       "      <td>nan</td>\n",
       "      <td>1999</td>\n",
       "      <td>nan</td>\n",
       "      <td>0</td>\n",
       "    </tr>\n",
       "    <tr>\n",
       "      <th>1</th>\n",
       "      <td>0</td>\n",
       "      <td>1</td>\n",
       "      <td>5.0</td>\n",
       "      <td>1999-06-14</td>\n",
       "      <td>Female</td>\n",
       "      <td>Portable Audio &amp; Video</td>\n",
       "      <td>nan</td>\n",
       "      <td>1999</td>\n",
       "      <td>nan</td>\n",
       "      <td>0</td>\n",
       "    </tr>\n",
       "    <tr>\n",
       "      <th>2</th>\n",
       "      <td>0</td>\n",
       "      <td>2</td>\n",
       "      <td>3.0</td>\n",
       "      <td>1999-06-17</td>\n",
       "      <td>Female</td>\n",
       "      <td>Portable Audio &amp; Video</td>\n",
       "      <td>nan</td>\n",
       "      <td>1999</td>\n",
       "      <td>nan</td>\n",
       "      <td>0</td>\n",
       "    </tr>\n",
       "    <tr>\n",
       "      <th>3</th>\n",
       "      <td>0</td>\n",
       "      <td>3</td>\n",
       "      <td>1.0</td>\n",
       "      <td>1999-07-01</td>\n",
       "      <td>Female</td>\n",
       "      <td>Portable Audio &amp; Video</td>\n",
       "      <td>nan</td>\n",
       "      <td>1999</td>\n",
       "      <td>nan</td>\n",
       "      <td>0</td>\n",
       "    </tr>\n",
       "    <tr>\n",
       "      <th>4</th>\n",
       "      <td>0</td>\n",
       "      <td>4</td>\n",
       "      <td>2.0</td>\n",
       "      <td>1999-07-06</td>\n",
       "      <td>Female</td>\n",
       "      <td>Portable Audio &amp; Video</td>\n",
       "      <td>nan</td>\n",
       "      <td>1999</td>\n",
       "      <td>nan</td>\n",
       "      <td>0</td>\n",
       "    </tr>\n",
       "  </tbody>\n",
       "</table>\n",
       "</div>"
      ],
      "text/plain": [
       "   item_id  user_id  rating  timestamp model_attr                category  \\\n",
       "0        0        0     5.0 1999-06-13     Female  Portable Audio & Video   \n",
       "1        0        1     5.0 1999-06-14     Female  Portable Audio & Video   \n",
       "2        0        2     3.0 1999-06-17     Female  Portable Audio & Video   \n",
       "3        0        3     1.0 1999-07-01     Female  Portable Audio & Video   \n",
       "4        0        4     2.0 1999-07-06     Female  Portable Audio & Video   \n",
       "\n",
       "  brand  year user_attr  split  \n",
       "0   nan  1999       nan      0  \n",
       "1   nan  1999       nan      0  \n",
       "2   nan  1999       nan      0  \n",
       "3   nan  1999       nan      0  \n",
       "4   nan  1999       nan      0  "
      ]
     },
     "metadata": {},
     "output_type": "display_data"
    },
    {
     "name": "stdout",
     "output_type": "stream",
     "text": [
      "\n",
      "Dateset Tail:\n"
     ]
    },
    {
     "data": {
      "text/html": [
       "<div>\n",
       "<style scoped>\n",
       "    .dataframe tbody tr th:only-of-type {\n",
       "        vertical-align: middle;\n",
       "    }\n",
       "\n",
       "    .dataframe tbody tr th {\n",
       "        vertical-align: top;\n",
       "    }\n",
       "\n",
       "    .dataframe thead th {\n",
       "        text-align: right;\n",
       "    }\n",
       "</style>\n",
       "<table border=\"1\" class=\"dataframe\">\n",
       "  <thead>\n",
       "    <tr style=\"text-align: right;\">\n",
       "      <th></th>\n",
       "      <th>item_id</th>\n",
       "      <th>user_id</th>\n",
       "      <th>rating</th>\n",
       "      <th>timestamp</th>\n",
       "      <th>model_attr</th>\n",
       "      <th>category</th>\n",
       "      <th>brand</th>\n",
       "      <th>year</th>\n",
       "      <th>user_attr</th>\n",
       "      <th>split</th>\n",
       "    </tr>\n",
       "  </thead>\n",
       "  <tbody>\n",
       "    <tr>\n",
       "      <th>1292949</th>\n",
       "      <td>9478</td>\n",
       "      <td>1157628</td>\n",
       "      <td>1.0</td>\n",
       "      <td>2018-09-26</td>\n",
       "      <td>Female</td>\n",
       "      <td>Headphones</td>\n",
       "      <td>Etre Jeune</td>\n",
       "      <td>2017</td>\n",
       "      <td>nan</td>\n",
       "      <td>0</td>\n",
       "    </tr>\n",
       "    <tr>\n",
       "      <th>1292950</th>\n",
       "      <td>9435</td>\n",
       "      <td>1157629</td>\n",
       "      <td>5.0</td>\n",
       "      <td>2018-09-26</td>\n",
       "      <td>Female</td>\n",
       "      <td>Computers &amp; Accessories</td>\n",
       "      <td>nan</td>\n",
       "      <td>2017</td>\n",
       "      <td>nan</td>\n",
       "      <td>0</td>\n",
       "    </tr>\n",
       "    <tr>\n",
       "      <th>1292951</th>\n",
       "      <td>9305</td>\n",
       "      <td>1157630</td>\n",
       "      <td>3.0</td>\n",
       "      <td>2018-09-26</td>\n",
       "      <td>Female</td>\n",
       "      <td>Computers &amp; Accessories</td>\n",
       "      <td>nan</td>\n",
       "      <td>2016</td>\n",
       "      <td>nan</td>\n",
       "      <td>0</td>\n",
       "    </tr>\n",
       "    <tr>\n",
       "      <th>1292952</th>\n",
       "      <td>9303</td>\n",
       "      <td>1157631</td>\n",
       "      <td>5.0</td>\n",
       "      <td>2018-09-29</td>\n",
       "      <td>Male</td>\n",
       "      <td>Headphones</td>\n",
       "      <td>nan</td>\n",
       "      <td>2018</td>\n",
       "      <td>nan</td>\n",
       "      <td>0</td>\n",
       "    </tr>\n",
       "    <tr>\n",
       "      <th>1292953</th>\n",
       "      <td>9478</td>\n",
       "      <td>1157632</td>\n",
       "      <td>1.0</td>\n",
       "      <td>2018-10-01</td>\n",
       "      <td>Female</td>\n",
       "      <td>Headphones</td>\n",
       "      <td>Etre Jeune</td>\n",
       "      <td>2017</td>\n",
       "      <td>Female</td>\n",
       "      <td>0</td>\n",
       "    </tr>\n",
       "  </tbody>\n",
       "</table>\n",
       "</div>"
      ],
      "text/plain": [
       "         item_id  user_id  rating  timestamp model_attr  \\\n",
       "1292949     9478  1157628     1.0 2018-09-26     Female   \n",
       "1292950     9435  1157629     5.0 2018-09-26     Female   \n",
       "1292951     9305  1157630     3.0 2018-09-26     Female   \n",
       "1292952     9303  1157631     5.0 2018-09-29       Male   \n",
       "1292953     9478  1157632     1.0 2018-10-01     Female   \n",
       "\n",
       "                        category       brand  year user_attr  split  \n",
       "1292949               Headphones  Etre Jeune  2017       nan      0  \n",
       "1292950  Computers & Accessories         nan  2017       nan      0  \n",
       "1292951  Computers & Accessories         nan  2016       nan      0  \n",
       "1292952               Headphones         nan  2018       nan      0  \n",
       "1292953               Headphones  Etre Jeune  2017    Female      0  "
      ]
     },
     "metadata": {},
     "output_type": "display_data"
    }
   ],
   "source": [
    "DataFrame(dataset)"
   ]
  },
  {
   "cell_type": "code",
   "execution_count": 9,
   "id": "55d12431",
   "metadata": {},
   "outputs": [],
   "source": [
    "# now let make analysis "
   ]
  },
  {
   "cell_type": "code",
   "execution_count": 10,
   "id": "afb52af5",
   "metadata": {},
   "outputs": [
    {
     "data": {
      "text/html": [
       "<div>\n",
       "<style scoped>\n",
       "    .dataframe tbody tr th:only-of-type {\n",
       "        vertical-align: middle;\n",
       "    }\n",
       "\n",
       "    .dataframe tbody tr th {\n",
       "        vertical-align: top;\n",
       "    }\n",
       "\n",
       "    .dataframe thead th {\n",
       "        text-align: right;\n",
       "    }\n",
       "</style>\n",
       "<table border=\"1\" class=\"dataframe\">\n",
       "  <thead>\n",
       "    <tr style=\"text-align: right;\">\n",
       "      <th></th>\n",
       "      <th>item_id</th>\n",
       "      <th>user_id</th>\n",
       "      <th>rating</th>\n",
       "      <th>timestamp</th>\n",
       "      <th>model_attr</th>\n",
       "      <th>category</th>\n",
       "      <th>brand</th>\n",
       "      <th>year</th>\n",
       "      <th>user_attr</th>\n",
       "      <th>split</th>\n",
       "    </tr>\n",
       "  </thead>\n",
       "  <tbody>\n",
       "    <tr>\n",
       "      <th>0</th>\n",
       "      <td>0</td>\n",
       "      <td>0</td>\n",
       "      <td>5.0</td>\n",
       "      <td>1999-06-13</td>\n",
       "      <td>Female</td>\n",
       "      <td>Portable Audio &amp; Video</td>\n",
       "      <td>nan</td>\n",
       "      <td>1999</td>\n",
       "      <td>nan</td>\n",
       "      <td>0</td>\n",
       "    </tr>\n",
       "    <tr>\n",
       "      <th>1</th>\n",
       "      <td>0</td>\n",
       "      <td>1</td>\n",
       "      <td>5.0</td>\n",
       "      <td>1999-06-14</td>\n",
       "      <td>Female</td>\n",
       "      <td>Portable Audio &amp; Video</td>\n",
       "      <td>nan</td>\n",
       "      <td>1999</td>\n",
       "      <td>nan</td>\n",
       "      <td>0</td>\n",
       "    </tr>\n",
       "    <tr>\n",
       "      <th>2</th>\n",
       "      <td>0</td>\n",
       "      <td>2</td>\n",
       "      <td>3.0</td>\n",
       "      <td>1999-06-17</td>\n",
       "      <td>Female</td>\n",
       "      <td>Portable Audio &amp; Video</td>\n",
       "      <td>nan</td>\n",
       "      <td>1999</td>\n",
       "      <td>nan</td>\n",
       "      <td>0</td>\n",
       "    </tr>\n",
       "    <tr>\n",
       "      <th>3</th>\n",
       "      <td>0</td>\n",
       "      <td>3</td>\n",
       "      <td>1.0</td>\n",
       "      <td>1999-07-01</td>\n",
       "      <td>Female</td>\n",
       "      <td>Portable Audio &amp; Video</td>\n",
       "      <td>nan</td>\n",
       "      <td>1999</td>\n",
       "      <td>nan</td>\n",
       "      <td>0</td>\n",
       "    </tr>\n",
       "    <tr>\n",
       "      <th>4</th>\n",
       "      <td>0</td>\n",
       "      <td>4</td>\n",
       "      <td>2.0</td>\n",
       "      <td>1999-07-06</td>\n",
       "      <td>Female</td>\n",
       "      <td>Portable Audio &amp; Video</td>\n",
       "      <td>nan</td>\n",
       "      <td>1999</td>\n",
       "      <td>nan</td>\n",
       "      <td>0</td>\n",
       "    </tr>\n",
       "  </tbody>\n",
       "</table>\n",
       "</div>"
      ],
      "text/plain": [
       "   item_id  user_id  rating  timestamp model_attr                category  \\\n",
       "0        0        0     5.0 1999-06-13     Female  Portable Audio & Video   \n",
       "1        0        1     5.0 1999-06-14     Female  Portable Audio & Video   \n",
       "2        0        2     3.0 1999-06-17     Female  Portable Audio & Video   \n",
       "3        0        3     1.0 1999-07-01     Female  Portable Audio & Video   \n",
       "4        0        4     2.0 1999-07-06     Female  Portable Audio & Video   \n",
       "\n",
       "  brand  year user_attr  split  \n",
       "0   nan  1999       nan      0  \n",
       "1   nan  1999       nan      0  \n",
       "2   nan  1999       nan      0  \n",
       "3   nan  1999       nan      0  \n",
       "4   nan  1999       nan      0  "
      ]
     },
     "execution_count": 10,
     "metadata": {},
     "output_type": "execute_result"
    }
   ],
   "source": [
    "dataset.head(5)"
   ]
  },
  {
   "cell_type": "code",
   "execution_count": 28,
   "id": "a1dd2dc2",
   "metadata": {},
   "outputs": [
    {
     "data": {
      "text/html": [
       "<div>\n",
       "<style scoped>\n",
       "    .dataframe tbody tr th:only-of-type {\n",
       "        vertical-align: middle;\n",
       "    }\n",
       "\n",
       "    .dataframe tbody tr th {\n",
       "        vertical-align: top;\n",
       "    }\n",
       "\n",
       "    .dataframe thead th {\n",
       "        text-align: right;\n",
       "    }\n",
       "</style>\n",
       "<table border=\"1\" class=\"dataframe\">\n",
       "  <thead>\n",
       "    <tr style=\"text-align: right;\">\n",
       "      <th></th>\n",
       "      <th>item_id</th>\n",
       "      <th>user_id</th>\n",
       "      <th>rating</th>\n",
       "      <th>year</th>\n",
       "      <th>split</th>\n",
       "    </tr>\n",
       "  </thead>\n",
       "  <tbody>\n",
       "    <tr>\n",
       "      <th>count</th>\n",
       "      <td>1.292954e+06</td>\n",
       "      <td>1.292954e+06</td>\n",
       "      <td>1.292954e+06</td>\n",
       "      <td>1.292954e+06</td>\n",
       "      <td>1.292954e+06</td>\n",
       "    </tr>\n",
       "    <tr>\n",
       "      <th>mean</th>\n",
       "      <td>4.183588e+03</td>\n",
       "      <td>5.605127e+05</td>\n",
       "      <td>4.051482e+00</td>\n",
       "      <td>2.012938e+03</td>\n",
       "      <td>1.747587e-01</td>\n",
       "    </tr>\n",
       "    <tr>\n",
       "      <th>std</th>\n",
       "      <td>2.525346e+03</td>\n",
       "      <td>3.342374e+05</td>\n",
       "      <td>1.379732e+00</td>\n",
       "      <td>2.643513e+00</td>\n",
       "      <td>5.506810e-01</td>\n",
       "    </tr>\n",
       "    <tr>\n",
       "      <th>min</th>\n",
       "      <td>0.000000e+00</td>\n",
       "      <td>0.000000e+00</td>\n",
       "      <td>1.000000e+00</td>\n",
       "      <td>1.999000e+03</td>\n",
       "      <td>0.000000e+00</td>\n",
       "    </tr>\n",
       "    <tr>\n",
       "      <th>25%</th>\n",
       "      <td>2.018000e+03</td>\n",
       "      <td>2.697482e+05</td>\n",
       "      <td>4.000000e+00</td>\n",
       "      <td>2.012000e+03</td>\n",
       "      <td>0.000000e+00</td>\n",
       "    </tr>\n",
       "    <tr>\n",
       "      <th>50%</th>\n",
       "      <td>3.930000e+03</td>\n",
       "      <td>5.518920e+05</td>\n",
       "      <td>5.000000e+00</td>\n",
       "      <td>2.014000e+03</td>\n",
       "      <td>0.000000e+00</td>\n",
       "    </tr>\n",
       "    <tr>\n",
       "      <th>75%</th>\n",
       "      <td>6.289000e+03</td>\n",
       "      <td>8.474858e+05</td>\n",
       "      <td>5.000000e+00</td>\n",
       "      <td>2.015000e+03</td>\n",
       "      <td>0.000000e+00</td>\n",
       "    </tr>\n",
       "    <tr>\n",
       "      <th>max</th>\n",
       "      <td>9.559000e+03</td>\n",
       "      <td>1.157632e+06</td>\n",
       "      <td>5.000000e+00</td>\n",
       "      <td>2.018000e+03</td>\n",
       "      <td>2.000000e+00</td>\n",
       "    </tr>\n",
       "  </tbody>\n",
       "</table>\n",
       "</div>"
      ],
      "text/plain": [
       "            item_id       user_id        rating          year         split\n",
       "count  1.292954e+06  1.292954e+06  1.292954e+06  1.292954e+06  1.292954e+06\n",
       "mean   4.183588e+03  5.605127e+05  4.051482e+00  2.012938e+03  1.747587e-01\n",
       "std    2.525346e+03  3.342374e+05  1.379732e+00  2.643513e+00  5.506810e-01\n",
       "min    0.000000e+00  0.000000e+00  1.000000e+00  1.999000e+03  0.000000e+00\n",
       "25%    2.018000e+03  2.697482e+05  4.000000e+00  2.012000e+03  0.000000e+00\n",
       "50%    3.930000e+03  5.518920e+05  5.000000e+00  2.014000e+03  0.000000e+00\n",
       "75%    6.289000e+03  8.474858e+05  5.000000e+00  2.015000e+03  0.000000e+00\n",
       "max    9.559000e+03  1.157632e+06  5.000000e+00  2.018000e+03  2.000000e+00"
      ]
     },
     "execution_count": 28,
     "metadata": {},
     "output_type": "execute_result"
    }
   ],
   "source": [
    "dataset.describe()"
   ]
  },
  {
   "cell_type": "code",
   "execution_count": 11,
   "id": "82e91190",
   "metadata": {},
   "outputs": [
    {
     "data": {
      "text/plain": [
       "10"
      ]
     },
     "execution_count": 11,
     "metadata": {},
     "output_type": "execute_result"
    }
   ],
   "source": [
    "dataset['category'].nunique()"
   ]
  },
  {
   "cell_type": "markdown",
   "id": "3d6b7556",
   "metadata": {},
   "source": [
    "There are 10 numbers of products "
   ]
  },
  {
   "cell_type": "code",
   "execution_count": 13,
   "id": "cf36d19e",
   "metadata": {},
   "outputs": [],
   "source": [
    "product_count = dataset['category'].value_counts().index\n",
    "product_no = dataset['category'].value_counts()"
   ]
  },
  {
   "cell_type": "code",
   "execution_count": 14,
   "id": "a5962201",
   "metadata": {},
   "outputs": [],
   "source": [
    "# from the code above the most sold was HeadPhones followed by the rest"
   ]
  },
  {
   "cell_type": "code",
   "execution_count": 15,
   "id": "c7a1e01b",
   "metadata": {},
   "outputs": [
    {
     "data": {
      "text/plain": [
       "<AxesSubplot:xlabel='count', ylabel='category'>"
      ]
     },
     "execution_count": 15,
     "metadata": {},
     "output_type": "execute_result"
    },
    {
     "data": {
      "image/png": "[encoded data removed]",
      "text/plain": [
       "<Figure size 432x288 with 1 Axes>"
      ]
     },
     "metadata": {
      "needs_background": "light"
     },
     "output_type": "display_data"
    }
   ],
   "source": [
    "sns.countplot(y=dataset['category'], data = dataset, order= product_count)\n",
    "\n",
    "# Visualzation of the top ten products "
   ]
  },
  {
   "cell_type": "markdown",
   "id": "7fc43906",
   "metadata": {},
   "source": [
    "The above visualization was the counts of products from the sales "
   ]
  },
  {
   "cell_type": "code",
   "execution_count": 16,
   "id": "12250ea0",
   "metadata": {},
   "outputs": [
    {
     "data": {
      "text/html": [
       "<div>\n",
       "<style scoped>\n",
       "    .dataframe tbody tr th:only-of-type {\n",
       "        vertical-align: middle;\n",
       "    }\n",
       "\n",
       "    .dataframe tbody tr th {\n",
       "        vertical-align: top;\n",
       "    }\n",
       "\n",
       "    .dataframe thead th {\n",
       "        text-align: right;\n",
       "    }\n",
       "</style>\n",
       "<table border=\"1\" class=\"dataframe\">\n",
       "  <thead>\n",
       "    <tr style=\"text-align: right;\">\n",
       "      <th></th>\n",
       "      <th>item_id</th>\n",
       "      <th>user_id</th>\n",
       "      <th>rating</th>\n",
       "      <th>timestamp</th>\n",
       "      <th>model_attr</th>\n",
       "      <th>category</th>\n",
       "      <th>brand</th>\n",
       "      <th>year</th>\n",
       "      <th>user_attr</th>\n",
       "      <th>split</th>\n",
       "    </tr>\n",
       "  </thead>\n",
       "  <tbody>\n",
       "    <tr>\n",
       "      <th>0</th>\n",
       "      <td>0</td>\n",
       "      <td>0</td>\n",
       "      <td>5.0</td>\n",
       "      <td>1999-06-13</td>\n",
       "      <td>Female</td>\n",
       "      <td>Portable Audio &amp; Video</td>\n",
       "      <td>nan</td>\n",
       "      <td>1999</td>\n",
       "      <td>nan</td>\n",
       "      <td>0</td>\n",
       "    </tr>\n",
       "    <tr>\n",
       "      <th>1</th>\n",
       "      <td>0</td>\n",
       "      <td>1</td>\n",
       "      <td>5.0</td>\n",
       "      <td>1999-06-14</td>\n",
       "      <td>Female</td>\n",
       "      <td>Portable Audio &amp; Video</td>\n",
       "      <td>nan</td>\n",
       "      <td>1999</td>\n",
       "      <td>nan</td>\n",
       "      <td>0</td>\n",
       "    </tr>\n",
       "    <tr>\n",
       "      <th>2</th>\n",
       "      <td>0</td>\n",
       "      <td>2</td>\n",
       "      <td>3.0</td>\n",
       "      <td>1999-06-17</td>\n",
       "      <td>Female</td>\n",
       "      <td>Portable Audio &amp; Video</td>\n",
       "      <td>nan</td>\n",
       "      <td>1999</td>\n",
       "      <td>nan</td>\n",
       "      <td>0</td>\n",
       "    </tr>\n",
       "  </tbody>\n",
       "</table>\n",
       "</div>"
      ],
      "text/plain": [
       "   item_id  user_id  rating  timestamp model_attr                category  \\\n",
       "0        0        0     5.0 1999-06-13     Female  Portable Audio & Video   \n",
       "1        0        1     5.0 1999-06-14     Female  Portable Audio & Video   \n",
       "2        0        2     3.0 1999-06-17     Female  Portable Audio & Video   \n",
       "\n",
       "  brand  year user_attr  split  \n",
       "0   nan  1999       nan      0  \n",
       "1   nan  1999       nan      0  \n",
       "2   nan  1999       nan      0  "
      ]
     },
     "execution_count": 16,
     "metadata": {},
     "output_type": "execute_result"
    }
   ],
   "source": [
    "dataset.head(3)"
   ]
  },
  {
   "cell_type": "code",
   "execution_count": 17,
   "id": "cad7d8fa",
   "metadata": {},
   "outputs": [
    {
     "data": {
      "text/plain": [
       "Female         481171\n",
       "Male           429715\n",
       "Female&Male    382068\n",
       "Name: model_attr, dtype: int64"
      ]
     },
     "execution_count": 17,
     "metadata": {},
     "output_type": "execute_result"
    }
   ],
   "source": [
    "dataset['model_attr'].value_counts()"
   ]
  },
  {
   "cell_type": "code",
   "execution_count": 22,
   "id": "0f8520a9",
   "metadata": {},
   "outputs": [
    {
     "data": {
      "text/plain": [
       "<AxesSubplot:xlabel='count', ylabel='brand'>"
      ]
     },
     "execution_count": 22,
     "metadata": {},
     "output_type": "execute_result"
    },
    {
     "data": {
      "image/png": "[encoded data removed]",
      "text/plain": [
       "<Figure size 432x288 with 1 Axes>"
      ]
     },
     "metadata": {
      "needs_background": "light"
     },
     "output_type": "display_data"
    }
   ],
   "source": [
    "brand_index =dataset['brand'].value_counts().index[1:25] # exluding nan  the top 25 countries \n",
    "d_brand_index = dataset[dataset['brand'].isin(brand_index)] # Filtered data containing top 1 - 25 countries\n",
    "sns.countplot(y= dataset['brand'], data = d_brand_index, order = brand_index)"
   ]
  },
  {
   "cell_type": "code",
   "execution_count": null,
   "id": "800e91ed",
   "metadata": {},
   "outputs": [],
   "source": []
  },
  {
   "cell_type": "code",
   "execution_count": 24,
   "id": "75504db4",
   "metadata": {},
   "outputs": [
    {
     "data": {
      "text/plain": [
       "Bose          29222\n",
       "Logitech      29203\n",
       "Sony          20360\n",
       "Mpow          17477\n",
       "EldHus        16530\n",
       "Sennheiser    13322\n",
       "Fujifilm      12245\n",
       "TaoTronics    12125\n",
       "Etre Jeune    11753\n",
       "Pyle          11606\n",
       "JLAB          10079\n",
       "Skullcandy    10014\n",
       "Kodak          8701\n",
       "Linksys        8288\n",
       "Jabra          7417\n",
       "Panasonic      7349\n",
       "Fintie         7212\n",
       "Garmin         7212\n",
       "Samsung        7051\n",
       "Canon          6959\n",
       "Neewer         6697\n",
       "Philips        6658\n",
       "Nikon          6539\n",
       "Apple          6027\n",
       "Name: brand, dtype: int64"
      ]
     },
     "execution_count": 24,
     "metadata": {},
     "output_type": "execute_result"
    }
   ],
   "source": [
    "d_brand_index['brand'].value_counts()  "
   ]
  },
  {
   "cell_type": "markdown",
   "id": "a0d7824c",
   "metadata": {},
   "source": [
    "This are the top 25 Brands that makes the products"
   ]
  },
  {
   "cell_type": "code",
   "execution_count": 29,
   "id": "122b6722",
   "metadata": {},
   "outputs": [
    {
     "data": {
      "text/html": [
       "<div>\n",
       "<style scoped>\n",
       "    .dataframe tbody tr th:only-of-type {\n",
       "        vertical-align: middle;\n",
       "    }\n",
       "\n",
       "    .dataframe tbody tr th {\n",
       "        vertical-align: top;\n",
       "    }\n",
       "\n",
       "    .dataframe thead th {\n",
       "        text-align: right;\n",
       "    }\n",
       "</style>\n",
       "<table border=\"1\" class=\"dataframe\">\n",
       "  <thead>\n",
       "    <tr style=\"text-align: right;\">\n",
       "      <th></th>\n",
       "      <th>item_id</th>\n",
       "      <th>user_id</th>\n",
       "      <th>rating</th>\n",
       "      <th>timestamp</th>\n",
       "      <th>model_attr</th>\n",
       "      <th>category</th>\n",
       "      <th>brand</th>\n",
       "      <th>year</th>\n",
       "      <th>user_attr</th>\n",
       "      <th>split</th>\n",
       "    </tr>\n",
       "  </thead>\n",
       "  <tbody>\n",
       "    <tr>\n",
       "      <th>0</th>\n",
       "      <td>0</td>\n",
       "      <td>0</td>\n",
       "      <td>5.0</td>\n",
       "      <td>1999-06-13</td>\n",
       "      <td>Female</td>\n",
       "      <td>Portable Audio &amp; Video</td>\n",
       "      <td>nan</td>\n",
       "      <td>1999</td>\n",
       "      <td>nan</td>\n",
       "      <td>0</td>\n",
       "    </tr>\n",
       "    <tr>\n",
       "      <th>1</th>\n",
       "      <td>0</td>\n",
       "      <td>1</td>\n",
       "      <td>5.0</td>\n",
       "      <td>1999-06-14</td>\n",
       "      <td>Female</td>\n",
       "      <td>Portable Audio &amp; Video</td>\n",
       "      <td>nan</td>\n",
       "      <td>1999</td>\n",
       "      <td>nan</td>\n",
       "      <td>0</td>\n",
       "    </tr>\n",
       "    <tr>\n",
       "      <th>2</th>\n",
       "      <td>0</td>\n",
       "      <td>2</td>\n",
       "      <td>3.0</td>\n",
       "      <td>1999-06-17</td>\n",
       "      <td>Female</td>\n",
       "      <td>Portable Audio &amp; Video</td>\n",
       "      <td>nan</td>\n",
       "      <td>1999</td>\n",
       "      <td>nan</td>\n",
       "      <td>0</td>\n",
       "    </tr>\n",
       "    <tr>\n",
       "      <th>3</th>\n",
       "      <td>0</td>\n",
       "      <td>3</td>\n",
       "      <td>1.0</td>\n",
       "      <td>1999-07-01</td>\n",
       "      <td>Female</td>\n",
       "      <td>Portable Audio &amp; Video</td>\n",
       "      <td>nan</td>\n",
       "      <td>1999</td>\n",
       "      <td>nan</td>\n",
       "      <td>0</td>\n",
       "    </tr>\n",
       "  </tbody>\n",
       "</table>\n",
       "</div>"
      ],
      "text/plain": [
       "   item_id  user_id  rating  timestamp model_attr                category  \\\n",
       "0        0        0     5.0 1999-06-13     Female  Portable Audio & Video   \n",
       "1        0        1     5.0 1999-06-14     Female  Portable Audio & Video   \n",
       "2        0        2     3.0 1999-06-17     Female  Portable Audio & Video   \n",
       "3        0        3     1.0 1999-07-01     Female  Portable Audio & Video   \n",
       "\n",
       "  brand  year user_attr  split  \n",
       "0   nan  1999       nan      0  \n",
       "1   nan  1999       nan      0  \n",
       "2   nan  1999       nan      0  \n",
       "3   nan  1999       nan      0  "
      ]
     },
     "execution_count": 29,
     "metadata": {},
     "output_type": "execute_result"
    }
   ],
   "source": [
    "dataset.head(4)"
   ]
  },
  {
   "cell_type": "markdown",
   "id": "4e1a6011",
   "metadata": {},
   "source": [
    "# Model_attribute Analysis \n"
   ]
  },
  {
   "cell_type": "code",
   "execution_count": 196,
   "id": "31ead67b",
   "metadata": {},
   "outputs": [
    {
     "data": {
      "text/plain": [
       "model_attr\n",
       "Female         481171\n",
       "Female&Male    382068\n",
       "Male           429715\n",
       "Name: category, dtype: int64"
      ]
     },
     "execution_count": 196,
     "metadata": {},
     "output_type": "execute_result"
    }
   ],
   "source": [
    "dataset.groupby('model_attr')['category'].count()"
   ]
  },
  {
   "cell_type": "code",
   "execution_count": 44,
   "id": "d3cdbe16",
   "metadata": {},
   "outputs": [
    {
     "data": {
      "text/plain": [
       "<AxesSubplot:ylabel='category'>"
      ]
     },
     "execution_count": 44,
     "metadata": {},
     "output_type": "execute_result"
    },
    {
     "data": {
      "image/png": "[encoded data removed]",
      "text/plain": [
       "<Figure size 432x288 with 1 Axes>"
      ]
     },
     "metadata": {},
     "output_type": "display_data"
    }
   ],
   "source": [
    "dataset.groupby('model_attr')['category'].count().plot(kind= 'pie',)"
   ]
  },
  {
   "cell_type": "code",
   "execution_count": 100,
   "id": "eeb56867",
   "metadata": {},
   "outputs": [
    {
     "data": {
      "image/png": "[encoded data removed]",
      "text/plain": [
       "<Figure size 432x288 with 1 Axes>"
      ]
     },
     "metadata": {
      "needs_background": "light"
     },
     "output_type": "display_data"
    }
   ],
   "source": [
    "dataset.groupby('brand')['category'].nunique().sort_values(ascending = False)[:20].drop('nan').plot(kind='barh')\n",
    "plt.xlabel('Number of products')\n",
    "plt.ylabel('Brands')\n",
    "plt.title('Brands and their No of products')\n",
    "plt.show()"
   ]
  },
  {
   "cell_type": "markdown",
   "id": "c0231ae6",
   "metadata": {},
   "source": [
    "From the above visualization sony has the most number of products"
   ]
  },
  {
   "cell_type": "markdown",
   "id": "701de2bf",
   "metadata": {},
   "source": [
    "# PRODUCT SALES ANALYSIS "
   ]
  },
  {
   "cell_type": "code",
   "execution_count": 104,
   "id": "6fdf2823",
   "metadata": {},
   "outputs": [
    {
     "data": {
      "text/html": [
       "<div>\n",
       "<style scoped>\n",
       "    .dataframe tbody tr th:only-of-type {\n",
       "        vertical-align: middle;\n",
       "    }\n",
       "\n",
       "    .dataframe tbody tr th {\n",
       "        vertical-align: top;\n",
       "    }\n",
       "\n",
       "    .dataframe thead th {\n",
       "        text-align: right;\n",
       "    }\n",
       "</style>\n",
       "<table border=\"1\" class=\"dataframe\">\n",
       "  <thead>\n",
       "    <tr style=\"text-align: right;\">\n",
       "      <th></th>\n",
       "      <th>item_id</th>\n",
       "      <th>user_id</th>\n",
       "      <th>rating</th>\n",
       "      <th>timestamp</th>\n",
       "      <th>model_attr</th>\n",
       "      <th>category</th>\n",
       "      <th>brand</th>\n",
       "      <th>year</th>\n",
       "      <th>user_attr</th>\n",
       "      <th>split</th>\n",
       "    </tr>\n",
       "  </thead>\n",
       "  <tbody>\n",
       "    <tr>\n",
       "      <th>0</th>\n",
       "      <td>0</td>\n",
       "      <td>0</td>\n",
       "      <td>5.0</td>\n",
       "      <td>1999-06-13</td>\n",
       "      <td>Female</td>\n",
       "      <td>Portable Audio &amp; Video</td>\n",
       "      <td>nan</td>\n",
       "      <td>1999</td>\n",
       "      <td>nan</td>\n",
       "      <td>0</td>\n",
       "    </tr>\n",
       "    <tr>\n",
       "      <th>1</th>\n",
       "      <td>0</td>\n",
       "      <td>1</td>\n",
       "      <td>5.0</td>\n",
       "      <td>1999-06-14</td>\n",
       "      <td>Female</td>\n",
       "      <td>Portable Audio &amp; Video</td>\n",
       "      <td>nan</td>\n",
       "      <td>1999</td>\n",
       "      <td>nan</td>\n",
       "      <td>0</td>\n",
       "    </tr>\n",
       "    <tr>\n",
       "      <th>2</th>\n",
       "      <td>0</td>\n",
       "      <td>2</td>\n",
       "      <td>3.0</td>\n",
       "      <td>1999-06-17</td>\n",
       "      <td>Female</td>\n",
       "      <td>Portable Audio &amp; Video</td>\n",
       "      <td>nan</td>\n",
       "      <td>1999</td>\n",
       "      <td>nan</td>\n",
       "      <td>0</td>\n",
       "    </tr>\n",
       "  </tbody>\n",
       "</table>\n",
       "</div>"
      ],
      "text/plain": [
       "   item_id  user_id  rating  timestamp model_attr                category  \\\n",
       "0        0        0     5.0 1999-06-13     Female  Portable Audio & Video   \n",
       "1        0        1     5.0 1999-06-14     Female  Portable Audio & Video   \n",
       "2        0        2     3.0 1999-06-17     Female  Portable Audio & Video   \n",
       "\n",
       "  brand  year user_attr  split  \n",
       "0   nan  1999       nan      0  \n",
       "1   nan  1999       nan      0  \n",
       "2   nan  1999       nan      0  "
      ]
     },
     "execution_count": 104,
     "metadata": {},
     "output_type": "execute_result"
    }
   ],
   "source": [
    "dataset.head(3)"
   ]
  },
  {
   "cell_type": "code",
   "execution_count": 114,
   "id": "725b9eb4",
   "metadata": {},
   "outputs": [
    {
     "data": {
      "text/plain": [
       "Headphones                 359334\n",
       "Computers & Accessories    322938\n",
       "Camera & Photo             192573\n",
       "Accessories & Supplies     158598\n",
       "Portable Audio & Video     143370\n",
       "Car Electronics & GPS       33070\n",
       "Television & Video          32057\n",
       "Home Audio                  24193\n",
       "Wearable Technology         16015\n",
       "Security & Surveillance     10806\n",
       "Name: category, dtype: int64"
      ]
     },
     "execution_count": 114,
     "metadata": {},
     "output_type": "execute_result"
    }
   ],
   "source": [
    "dataset['category'].value_counts()"
   ]
  },
  {
   "cell_type": "code",
   "execution_count": 125,
   "id": "797bb497",
   "metadata": {},
   "outputs": [
    {
     "data": {
      "text/plain": [
       "1292954"
      ]
     },
     "execution_count": 125,
     "metadata": {},
     "output_type": "execute_result"
    }
   ],
   "source": [
    "dataset['rating'].count()"
   ]
  },
  {
   "cell_type": "code",
   "execution_count": 115,
   "id": "d5d0dc3b",
   "metadata": {},
   "outputs": [
    {
     "data": {
      "text/plain": [
       "category\n",
       "Accessories & Supplies     158598\n",
       "Camera & Photo             192573\n",
       "Car Electronics & GPS       33070\n",
       "Computers & Accessories    322938\n",
       "Headphones                 359334\n",
       "Home Audio                  24193\n",
       "Portable Audio & Video     143370\n",
       "Security & Surveillance     10806\n",
       "Television & Video          32057\n",
       "Wearable Technology         16015\n",
       "Name: rating, dtype: int64"
      ]
     },
     "execution_count": 115,
     "metadata": {},
     "output_type": "execute_result"
    }
   ],
   "source": [
    "dataset.groupby('category')['rating'].count()"
   ]
  },
  {
   "cell_type": "code",
   "execution_count": 113,
   "id": "4b1e6cc2",
   "metadata": {},
   "outputs": [
    {
     "data": {
      "text/plain": [
       "<AxesSubplot:ylabel='category'>"
      ]
     },
     "execution_count": 113,
     "metadata": {},
     "output_type": "execute_result"
    },
    {
     "data": {
      "image/png": "[encoded data removed]",
      "text/plain": [
       "<Figure size 432x288 with 1 Axes>"
      ]
     },
     "metadata": {
      "needs_background": "light"
     },
     "output_type": "display_data"
    }
   ],
   "source": [
    "dataset.groupby('category')['rating'].count().plot(kind= 'barh')"
   ]
  },
  {
   "cell_type": "markdown",
   "id": "203ee1ce",
   "metadata": {},
   "source": [
    "From the above visualizaton the headphones got more rating and security got least rating.Meaning either the product is:\n",
    "\n",
    ". Bad/low quality\n",
    ". Poor Performance\n",
    ". Bad Pr\n",
    ". Any other factor "
   ]
  },
  {
   "cell_type": "code",
   "execution_count": 154,
   "id": "68ece031",
   "metadata": {},
   "outputs": [
    {
     "data": {
      "text/plain": [
       "year\n",
       "2015    364004\n",
       "2014    275194\n",
       "2013    161695\n",
       "2012    139154\n",
       "2011     87695\n",
       "2016     54598\n",
       "2009     54333\n",
       "2010     50315\n",
       "2008     28520\n",
       "2007     17989\n",
       "2006     16336\n",
       "2005     11577\n",
       "2017     10429\n",
       "2004      7195\n",
       "2018      4624\n",
       "2003      3949\n",
       "2000      3572\n",
       "2002       955\n",
       "2001       702\n",
       "1999       118\n",
       "Name: rating, dtype: int64"
      ]
     },
     "execution_count": 154,
     "metadata": {},
     "output_type": "execute_result"
    }
   ],
   "source": [
    "dataset.groupby('year')['rating'].count().sort_values(ascending = False)"
   ]
  },
  {
   "cell_type": "code",
   "execution_count": 146,
   "id": "b366e6b1",
   "metadata": {},
   "outputs": [
    {
     "data": {
      "text/plain": [
       "<AxesSubplot:xlabel='year'>"
      ]
     },
     "execution_count": 146,
     "metadata": {},
     "output_type": "execute_result"
    },
    {
     "data": {
      "image/png": "[encoded data removed]",
      "text/plain": [
       "<Figure size 432x288 with 1 Axes>"
      ]
     },
     "metadata": {
      "needs_background": "light"
     },
     "output_type": "display_data"
    }
   ],
   "source": [
    "dataset.groupby('year')['rating'].count().plot(kind = 'bar')"
   ]
  },
  {
   "cell_type": "markdown",
   "id": "f39b0106",
   "metadata": {},
   "source": [
    " we can see from the above data and visualization the year 2015 had most ratings and the least was the year 1999"
   ]
  },
  {
   "cell_type": "code",
   "execution_count": 156,
   "id": "70337e58",
   "metadata": {},
   "outputs": [
    {
     "data": {
      "text/html": [
       "<div>\n",
       "<style scoped>\n",
       "    .dataframe tbody tr th:only-of-type {\n",
       "        vertical-align: middle;\n",
       "    }\n",
       "\n",
       "    .dataframe tbody tr th {\n",
       "        vertical-align: top;\n",
       "    }\n",
       "\n",
       "    .dataframe thead th {\n",
       "        text-align: right;\n",
       "    }\n",
       "</style>\n",
       "<table border=\"1\" class=\"dataframe\">\n",
       "  <thead>\n",
       "    <tr style=\"text-align: right;\">\n",
       "      <th></th>\n",
       "      <th>item_id</th>\n",
       "      <th>user_id</th>\n",
       "      <th>rating</th>\n",
       "      <th>timestamp</th>\n",
       "      <th>model_attr</th>\n",
       "      <th>category</th>\n",
       "      <th>brand</th>\n",
       "      <th>year</th>\n",
       "      <th>user_attr</th>\n",
       "      <th>split</th>\n",
       "    </tr>\n",
       "  </thead>\n",
       "  <tbody>\n",
       "    <tr>\n",
       "      <th>0</th>\n",
       "      <td>0</td>\n",
       "      <td>0</td>\n",
       "      <td>5.0</td>\n",
       "      <td>1999-06-13</td>\n",
       "      <td>Female</td>\n",
       "      <td>Portable Audio &amp; Video</td>\n",
       "      <td>nan</td>\n",
       "      <td>1999</td>\n",
       "      <td>nan</td>\n",
       "      <td>0</td>\n",
       "    </tr>\n",
       "    <tr>\n",
       "      <th>1</th>\n",
       "      <td>0</td>\n",
       "      <td>1</td>\n",
       "      <td>5.0</td>\n",
       "      <td>1999-06-14</td>\n",
       "      <td>Female</td>\n",
       "      <td>Portable Audio &amp; Video</td>\n",
       "      <td>nan</td>\n",
       "      <td>1999</td>\n",
       "      <td>nan</td>\n",
       "      <td>0</td>\n",
       "    </tr>\n",
       "    <tr>\n",
       "      <th>2</th>\n",
       "      <td>0</td>\n",
       "      <td>2</td>\n",
       "      <td>3.0</td>\n",
       "      <td>1999-06-17</td>\n",
       "      <td>Female</td>\n",
       "      <td>Portable Audio &amp; Video</td>\n",
       "      <td>nan</td>\n",
       "      <td>1999</td>\n",
       "      <td>nan</td>\n",
       "      <td>0</td>\n",
       "    </tr>\n",
       "  </tbody>\n",
       "</table>\n",
       "</div>"
      ],
      "text/plain": [
       "   item_id  user_id  rating  timestamp model_attr                category  \\\n",
       "0        0        0     5.0 1999-06-13     Female  Portable Audio & Video   \n",
       "1        0        1     5.0 1999-06-14     Female  Portable Audio & Video   \n",
       "2        0        2     3.0 1999-06-17     Female  Portable Audio & Video   \n",
       "\n",
       "  brand  year user_attr  split  \n",
       "0   nan  1999       nan      0  \n",
       "1   nan  1999       nan      0  \n",
       "2   nan  1999       nan      0  "
      ]
     },
     "execution_count": 156,
     "metadata": {},
     "output_type": "execute_result"
    }
   ],
   "source": [
    "dataset.head(3)"
   ]
  },
  {
   "cell_type": "code",
   "execution_count": 181,
   "id": "448461e6",
   "metadata": {},
   "outputs": [
    {
     "data": {
      "text/plain": [
       "<AxesSubplot:xlabel='category'>"
      ]
     },
     "execution_count": 181,
     "metadata": {},
     "output_type": "execute_result"
    },
    {
     "data": {
      "image/png": "[encoded data removed]",
      "text/plain": [
       "<Figure size 432x288 with 1 Axes>"
      ]
     },
     "metadata": {
      "needs_background": "light"
     },
     "output_type": "display_data"
    }
   ],
   "source": [
    "# the year 2014 \n",
    "\n",
    "year_2014 = dataset[dataset['year'] == 2014]# year 2014\n",
    "year_2014.groupby('category')['rating'].count().plot(kind = 'bar')"
   ]
  },
  {
   "cell_type": "markdown",
   "id": "82d95d9a",
   "metadata": {},
   "source": [
    "Year 2014\n",
    "Most rating - HeadPhones \n",
    "Least Rating - Security & Surveillance"
   ]
  },
  {
   "cell_type": "code",
   "execution_count": 182,
   "id": "19b13cd3",
   "metadata": {},
   "outputs": [
    {
     "data": {
      "text/plain": [
       "<AxesSubplot:ylabel='category'>"
      ]
     },
     "execution_count": 182,
     "metadata": {},
     "output_type": "execute_result"
    },
    {
     "data": {
      "image/png": "[encoded data removed]",
      "text/plain": [
       "<Figure size 432x288 with 1 Axes>"
      ]
     },
     "metadata": {
      "needs_background": "light"
     },
     "output_type": "display_data"
    }
   ],
   "source": [
    "# the year 2015 \n",
    "\n",
    "year_2015 = dataset[dataset['year'] == 2015]# year 2015\n",
    "year_2015.groupby('category')['rating'].count().plot(kind = 'barh')"
   ]
  },
  {
   "cell_type": "markdown",
   "id": "baeb8801",
   "metadata": {},
   "source": [
    "Year 2015\n",
    "Most rating - HeadPhones \n",
    "Least Rating - Security & Surveillance"
   ]
  },
  {
   "cell_type": "code",
   "execution_count": 183,
   "id": "b7051425",
   "metadata": {},
   "outputs": [
    {
     "data": {
      "text/plain": [
       "<AxesSubplot:xlabel='category'>"
      ]
     },
     "execution_count": 183,
     "metadata": {},
     "output_type": "execute_result"
    },
    {
     "data": {
      "image/png": "[encoded data removed]",
      "text/plain": [
       "<Figure size 432x288 with 1 Axes>"
      ]
     },
     "metadata": {
      "needs_background": "light"
     },
     "output_type": "display_data"
    }
   ],
   "source": [
    "# the year 2016 \n",
    "\n",
    "year_2016 = dataset[dataset['year'] == 2016]# year 2016\n",
    "year_2016.groupby('category')['rating'].count().plot(kind = 'bar')"
   ]
  },
  {
   "cell_type": "markdown",
   "id": "93cffc18",
   "metadata": {},
   "source": [
    "Year 2016\n",
    "Most rating - HeadPhones \n",
    "Least Rating -Computers & Accessories"
   ]
  },
  {
   "cell_type": "code",
   "execution_count": 184,
   "id": "2383b70e",
   "metadata": {},
   "outputs": [
    {
     "data": {
      "text/plain": [
       "<AxesSubplot:xlabel='category'>"
      ]
     },
     "execution_count": 184,
     "metadata": {},
     "output_type": "execute_result"
    },
    {
     "data": {
      "image/png": "[encoded data removed]",
      "text/plain": [
       "<Figure size 432x288 with 1 Axes>"
      ]
     },
     "metadata": {
      "needs_background": "light"
     },
     "output_type": "display_data"
    }
   ],
   "source": [
    "# the year 2017\n",
    "\n",
    "year_2014 = dataset[dataset['year'] == 2017]# year 2017\n",
    "year_2014.groupby('category')['rating'].count().plot(kind = 'bar')"
   ]
  },
  {
   "cell_type": "markdown",
   "id": "06f2954e",
   "metadata": {},
   "source": [
    "Year 2017\n",
    "Most rating - Camera & Photo \n",
    "Least Rating - Home Audio"
   ]
  },
  {
   "cell_type": "code",
   "execution_count": 185,
   "id": "4ea7b416",
   "metadata": {},
   "outputs": [
    {
     "data": {
      "text/plain": [
       "<AxesSubplot:xlabel='category'>"
      ]
     },
     "execution_count": 185,
     "metadata": {},
     "output_type": "execute_result"
    },
    {
     "data": {
      "image/png": "[encoded data removed]",
      "text/plain": [
       "<Figure size 432x288 with 1 Axes>"
      ]
     },
     "metadata": {
      "needs_background": "light"
     },
     "output_type": "display_data"
    }
   ],
   "source": [
    "# the year 2018\n",
    "\n",
    "year_2018 = dataset[dataset['year'] == 2018]# year 2014\n",
    "year_2018.groupby('category')['rating'].count().plot(kind = 'bar')"
   ]
  },
  {
   "cell_type": "markdown",
   "id": "74427182",
   "metadata": {},
   "source": [
    "Year 2018\n",
    "Most rating - Camera & Photo \n",
    "Least Rating - Home Audio"
   ]
  },
  {
   "cell_type": "code",
   "execution_count": 186,
   "id": "72594515",
   "metadata": {},
   "outputs": [
    {
     "data": {
      "text/html": [
       "<div>\n",
       "<style scoped>\n",
       "    .dataframe tbody tr th:only-of-type {\n",
       "        vertical-align: middle;\n",
       "    }\n",
       "\n",
       "    .dataframe tbody tr th {\n",
       "        vertical-align: top;\n",
       "    }\n",
       "\n",
       "    .dataframe thead th {\n",
       "        text-align: right;\n",
       "    }\n",
       "</style>\n",
       "<table border=\"1\" class=\"dataframe\">\n",
       "  <thead>\n",
       "    <tr style=\"text-align: right;\">\n",
       "      <th></th>\n",
       "      <th>item_id</th>\n",
       "      <th>user_id</th>\n",
       "      <th>rating</th>\n",
       "      <th>timestamp</th>\n",
       "      <th>model_attr</th>\n",
       "      <th>category</th>\n",
       "      <th>brand</th>\n",
       "      <th>year</th>\n",
       "      <th>user_attr</th>\n",
       "      <th>split</th>\n",
       "    </tr>\n",
       "  </thead>\n",
       "  <tbody>\n",
       "    <tr>\n",
       "      <th>0</th>\n",
       "      <td>0</td>\n",
       "      <td>0</td>\n",
       "      <td>5.0</td>\n",
       "      <td>1999-06-13</td>\n",
       "      <td>Female</td>\n",
       "      <td>Portable Audio &amp; Video</td>\n",
       "      <td>nan</td>\n",
       "      <td>1999</td>\n",
       "      <td>nan</td>\n",
       "      <td>0</td>\n",
       "    </tr>\n",
       "    <tr>\n",
       "      <th>1</th>\n",
       "      <td>0</td>\n",
       "      <td>1</td>\n",
       "      <td>5.0</td>\n",
       "      <td>1999-06-14</td>\n",
       "      <td>Female</td>\n",
       "      <td>Portable Audio &amp; Video</td>\n",
       "      <td>nan</td>\n",
       "      <td>1999</td>\n",
       "      <td>nan</td>\n",
       "      <td>0</td>\n",
       "    </tr>\n",
       "    <tr>\n",
       "      <th>2</th>\n",
       "      <td>0</td>\n",
       "      <td>2</td>\n",
       "      <td>3.0</td>\n",
       "      <td>1999-06-17</td>\n",
       "      <td>Female</td>\n",
       "      <td>Portable Audio &amp; Video</td>\n",
       "      <td>nan</td>\n",
       "      <td>1999</td>\n",
       "      <td>nan</td>\n",
       "      <td>0</td>\n",
       "    </tr>\n",
       "  </tbody>\n",
       "</table>\n",
       "</div>"
      ],
      "text/plain": [
       "   item_id  user_id  rating  timestamp model_attr                category  \\\n",
       "0        0        0     5.0 1999-06-13     Female  Portable Audio & Video   \n",
       "1        0        1     5.0 1999-06-14     Female  Portable Audio & Video   \n",
       "2        0        2     3.0 1999-06-17     Female  Portable Audio & Video   \n",
       "\n",
       "  brand  year user_attr  split  \n",
       "0   nan  1999       nan      0  \n",
       "1   nan  1999       nan      0  \n",
       "2   nan  1999       nan      0  "
      ]
     },
     "execution_count": 186,
     "metadata": {},
     "output_type": "execute_result"
    }
   ],
   "source": [
    "dataset.head(3)"
   ]
  },
  {
   "cell_type": "code",
   "execution_count": 207,
   "id": "f3df5b88",
   "metadata": {},
   "outputs": [
    {
     "data": {
      "text/plain": [
       "<AxesSubplot:xlabel='count', ylabel='brand'>"
      ]
     },
     "execution_count": 207,
     "metadata": {},
     "output_type": "execute_result"
    },
    {
     "data": {
      "image/png": "[encoded data removed]",
      "text/plain": [
       "<Figure size 432x288 with 1 Axes>"
      ]
     },
     "metadata": {
      "needs_background": "light"
     },
     "output_type": "display_data"
    }
   ],
   "source": [
    "top_20 = dataset['brand'].value_counts().drop('nan').index[:10]\n",
    "d_top_20 = dataset[dataset['brand'].isin(top_20)]\n",
    "\n",
    "sns.countplot(y= dataset['brand'], data= d_top_20, order = top_20)"
   ]
  },
  {
   "cell_type": "code",
   "execution_count": null,
   "id": "7daf5c41",
   "metadata": {
    "collapsed": true
   },
   "outputs": [],
   "source": [
    "sns.countplot"
   ]
  }
 ],
 "metadata": {
  "kernelspec": {
   "display_name": "Python 3 (ipykernel)",
   "language": "python",
   "name": "python3"
  },
  "language_info": {
   "codemirror_mode": {
    "name": "ipython",
    "version": 3
   },
   "file_extension": ".py",
   "mimetype": "text/x-python",
   "name": "python",
   "nbconvert_exporter": "python",
   "pygments_lexer": "ipython3",
   "version": "3.9.12"
  }
 },
 "nbformat": 4,
 "nbformat_minor": 5
}
